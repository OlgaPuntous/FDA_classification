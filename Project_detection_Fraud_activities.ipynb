{
 "cells": [
  {
   "cell_type": "code",
   "execution_count": 78,
   "metadata": {},
   "outputs": [],
   "source": [
    "import pandas as pd\n",
    "import numpy as np\n",
    "\n",
    "from sklearn.model_selection import train_test_split\n",
    "from sklearn.impute import SimpleImputer\n",
    "from sklearn.preprocessing import StandardScaler\n",
    "from sklearn.compose import ColumnTransformer\n",
    "from sklearn.linear_model import LogisticRegressionCV\n",
    "from sklearn.metrics import f1_score, confusion_matrix\n",
    "from sklearn.pipeline import Pipeline\n",
    "from sklearn.preprocessing import  OneHotEncoder, StandardScaler, LabelEncoder\n",
    "from sklearn.linear_model import LogisticRegression\n",
    "from sklearn.model_selection import train_test_split\n",
    "from sklearn.pipeline import Pipeline\n",
    "from sklearn.impute import SimpleImputer\n",
    "from sklearn.preprocessing import  OneHotEncoder, StandardScaler, LabelEncoder\n",
    "from sklearn.compose import ColumnTransformer\n",
    "from sklearn.linear_model import LogisticRegression\n",
    "from sklearn.ensemble import RandomForestClassifier\n",
    "from sklearn.model_selection import GridSearchCV\n",
    "from sklearn.metrics import f1_score\n",
    "from sklearn.svm import SVC\n",
    "from sklearn.tree import DecisionTreeClassifier\n",
    "from sklearn.neighbors import KNeighborsClassifier\n",
    "from sklearn.naive_bayes import GaussianNB\n",
    "\n",
    "import matplotlib.pyplot as plt\n",
    "import seaborn as sns\n",
    "from IPython.display import display"
   ]
  },
  {
   "cell_type": "code",
   "execution_count": 2,
   "metadata": {
    "scrolled": true
   },
   "outputs": [
    {
     "name": "stdout",
     "output_type": "stream",
     "text": [
      "Collecting s3fs\n",
      "  Using cached s3fs-0.5.2-py3-none-any.whl (22 kB)\n",
      "Processing /home/jovyan/.cache/pip/wheels/03/72/9a/4212a33194f60ef51f0b3659f153d5c3284e3e8b67481105fb/aiobotocore-1.2.0-py3-none-any.whl\n",
      "Requirement already satisfied: fsspec>=0.8.0 in /opt/conda/lib/python3.8/site-packages (from s3fs) (0.8.3)\n",
      "Processing /home/jovyan/.cache/pip/wheels/5f/fd/9e/b6cf5890494cb8ef0b5eaff72e5d55a70fb56316007d6dfe73/wrapt-1.12.1-cp38-cp38-linux_x86_64.whl\n",
      "Collecting aiohttp>=3.3.1\n",
      "  Using cached aiohttp-3.7.3-cp38-cp38-manylinux2014_x86_64.whl (1.5 MB)\n",
      "Collecting aioitertools>=0.5.1\n",
      "  Using cached aioitertools-0.7.1-py3-none-any.whl (20 kB)\n",
      "Collecting botocore<1.19.53,>=1.19.52\n",
      "  Using cached botocore-1.19.52-py2.py3-none-any.whl (7.2 MB)\n",
      "Collecting yarl<2.0,>=1.0\n",
      "  Using cached yarl-1.6.3-cp38-cp38-manylinux2014_x86_64.whl (324 kB)\n",
      "Collecting multidict<7.0,>=4.5\n",
      "  Using cached multidict-5.1.0-cp38-cp38-manylinux2014_x86_64.whl (159 kB)\n",
      "Requirement already satisfied: typing-extensions>=3.6.5 in /opt/conda/lib/python3.8/site-packages (from aiohttp>=3.3.1->aiobotocore>=1.0.1->s3fs) (3.7.4.2)\n",
      "Collecting async-timeout<4.0,>=3.0\n",
      "  Using cached async_timeout-3.0.1-py3-none-any.whl (8.2 kB)\n",
      "Requirement already satisfied: chardet<4.0,>=2.0 in /opt/conda/lib/python3.8/site-packages (from aiohttp>=3.3.1->aiobotocore>=1.0.1->s3fs) (3.0.4)\n",
      "Requirement already satisfied: attrs>=17.3.0 in /opt/conda/lib/python3.8/site-packages (from aiohttp>=3.3.1->aiobotocore>=1.0.1->s3fs) (20.2.0)\n",
      "Requirement already satisfied: python-dateutil<3.0.0,>=2.1 in /opt/conda/lib/python3.8/site-packages (from botocore<1.19.53,>=1.19.52->aiobotocore>=1.0.1->s3fs) (2.8.1)\n",
      "Collecting jmespath<1.0.0,>=0.7.1\n",
      "  Using cached jmespath-0.10.0-py2.py3-none-any.whl (24 kB)\n",
      "Requirement already satisfied: urllib3<1.27,>=1.25.4; python_version != \"3.4\" in /opt/conda/lib/python3.8/site-packages (from botocore<1.19.53,>=1.19.52->aiobotocore>=1.0.1->s3fs) (1.25.10)\n",
      "Requirement already satisfied: idna>=2.0 in /opt/conda/lib/python3.8/site-packages (from yarl<2.0,>=1.0->aiohttp>=3.3.1->aiobotocore>=1.0.1->s3fs) (2.10)\n",
      "Requirement already satisfied: six>=1.5 in /opt/conda/lib/python3.8/site-packages (from python-dateutil<3.0.0,>=2.1->botocore<1.19.53,>=1.19.52->aiobotocore>=1.0.1->s3fs) (1.15.0)\n",
      "Installing collected packages: wrapt, multidict, yarl, async-timeout, aiohttp, aioitertools, jmespath, botocore, aiobotocore, s3fs\n",
      "Successfully installed aiobotocore-1.2.0 aiohttp-3.7.3 aioitertools-0.7.1 async-timeout-3.0.1 botocore-1.19.52 jmespath-0.10.0 multidict-5.1.0 s3fs-0.5.2 wrapt-1.12.1 yarl-1.6.3\n",
      "Note: you may need to restart the kernel to use updated packages.\n"
     ]
    }
   ],
   "source": [
    "pip install s3fs"
   ]
  },
  {
   "cell_type": "code",
   "execution_count": 40,
   "metadata": {},
   "outputs": [],
   "source": [
    "data = pd.read_csv(\"s3://full-stack-bigdata-datasets/Machine Learning Supervisé/projects/fraudulent_activity/Fraud_Data.csv\")\n",
    "ip_country = pd.read_csv(\"s3://full-stack-bigdata-datasets/Machine Learning Supervisé/projects/fraudulent_activity/IpAddress_to_Country.csv\")"
   ]
  },
  {
   "cell_type": "code",
   "execution_count": 41,
   "metadata": {},
   "outputs": [
    {
     "data": {
      "text/html": [
       "<div>\n",
       "<style scoped>\n",
       "    .dataframe tbody tr th:only-of-type {\n",
       "        vertical-align: middle;\n",
       "    }\n",
       "\n",
       "    .dataframe tbody tr th {\n",
       "        vertical-align: top;\n",
       "    }\n",
       "\n",
       "    .dataframe thead th {\n",
       "        text-align: right;\n",
       "    }\n",
       "</style>\n",
       "<table border=\"1\" class=\"dataframe\">\n",
       "  <thead>\n",
       "    <tr style=\"text-align: right;\">\n",
       "      <th></th>\n",
       "      <th>user_id</th>\n",
       "      <th>purchase_value</th>\n",
       "      <th>age</th>\n",
       "      <th>ip_address</th>\n",
       "      <th>class</th>\n",
       "    </tr>\n",
       "  </thead>\n",
       "  <tbody>\n",
       "    <tr>\n",
       "      <th>count</th>\n",
       "      <td>151112.000000</td>\n",
       "      <td>151112.000000</td>\n",
       "      <td>151112.000000</td>\n",
       "      <td>1.511120e+05</td>\n",
       "      <td>151112.000000</td>\n",
       "    </tr>\n",
       "    <tr>\n",
       "      <th>mean</th>\n",
       "      <td>200171.040970</td>\n",
       "      <td>36.935372</td>\n",
       "      <td>33.140704</td>\n",
       "      <td>2.152145e+09</td>\n",
       "      <td>0.093646</td>\n",
       "    </tr>\n",
       "    <tr>\n",
       "      <th>std</th>\n",
       "      <td>115369.285024</td>\n",
       "      <td>18.322762</td>\n",
       "      <td>8.617733</td>\n",
       "      <td>1.248497e+09</td>\n",
       "      <td>0.291336</td>\n",
       "    </tr>\n",
       "    <tr>\n",
       "      <th>min</th>\n",
       "      <td>2.000000</td>\n",
       "      <td>9.000000</td>\n",
       "      <td>18.000000</td>\n",
       "      <td>5.209350e+04</td>\n",
       "      <td>0.000000</td>\n",
       "    </tr>\n",
       "    <tr>\n",
       "      <th>25%</th>\n",
       "      <td>100642.500000</td>\n",
       "      <td>22.000000</td>\n",
       "      <td>27.000000</td>\n",
       "      <td>1.085934e+09</td>\n",
       "      <td>0.000000</td>\n",
       "    </tr>\n",
       "    <tr>\n",
       "      <th>50%</th>\n",
       "      <td>199958.000000</td>\n",
       "      <td>35.000000</td>\n",
       "      <td>33.000000</td>\n",
       "      <td>2.154770e+09</td>\n",
       "      <td>0.000000</td>\n",
       "    </tr>\n",
       "    <tr>\n",
       "      <th>75%</th>\n",
       "      <td>300054.000000</td>\n",
       "      <td>49.000000</td>\n",
       "      <td>39.000000</td>\n",
       "      <td>3.243258e+09</td>\n",
       "      <td>0.000000</td>\n",
       "    </tr>\n",
       "    <tr>\n",
       "      <th>max</th>\n",
       "      <td>400000.000000</td>\n",
       "      <td>154.000000</td>\n",
       "      <td>76.000000</td>\n",
       "      <td>4.294850e+09</td>\n",
       "      <td>1.000000</td>\n",
       "    </tr>\n",
       "  </tbody>\n",
       "</table>\n",
       "</div>"
      ],
      "text/plain": [
       "             user_id  purchase_value            age    ip_address  \\\n",
       "count  151112.000000   151112.000000  151112.000000  1.511120e+05   \n",
       "mean   200171.040970       36.935372      33.140704  2.152145e+09   \n",
       "std    115369.285024       18.322762       8.617733  1.248497e+09   \n",
       "min         2.000000        9.000000      18.000000  5.209350e+04   \n",
       "25%    100642.500000       22.000000      27.000000  1.085934e+09   \n",
       "50%    199958.000000       35.000000      33.000000  2.154770e+09   \n",
       "75%    300054.000000       49.000000      39.000000  3.243258e+09   \n",
       "max    400000.000000      154.000000      76.000000  4.294850e+09   \n",
       "\n",
       "               class  \n",
       "count  151112.000000  \n",
       "mean        0.093646  \n",
       "std         0.291336  \n",
       "min         0.000000  \n",
       "25%         0.000000  \n",
       "50%         0.000000  \n",
       "75%         0.000000  \n",
       "max         1.000000  "
      ]
     },
     "execution_count": 41,
     "metadata": {},
     "output_type": "execute_result"
    }
   ],
   "source": [
    "data.describe()"
   ]
  },
  {
   "cell_type": "code",
   "execution_count": 42,
   "metadata": {},
   "outputs": [
    {
     "data": {
      "text/html": [
       "<div>\n",
       "<style scoped>\n",
       "    .dataframe tbody tr th:only-of-type {\n",
       "        vertical-align: middle;\n",
       "    }\n",
       "\n",
       "    .dataframe tbody tr th {\n",
       "        vertical-align: top;\n",
       "    }\n",
       "\n",
       "    .dataframe thead th {\n",
       "        text-align: right;\n",
       "    }\n",
       "</style>\n",
       "<table border=\"1\" class=\"dataframe\">\n",
       "  <thead>\n",
       "    <tr style=\"text-align: right;\">\n",
       "      <th></th>\n",
       "      <th>user_id</th>\n",
       "      <th>signup_time</th>\n",
       "      <th>purchase_time</th>\n",
       "      <th>purchase_value</th>\n",
       "      <th>device_id</th>\n",
       "      <th>source</th>\n",
       "      <th>browser</th>\n",
       "      <th>sex</th>\n",
       "      <th>age</th>\n",
       "      <th>ip_address</th>\n",
       "      <th>class</th>\n",
       "    </tr>\n",
       "  </thead>\n",
       "  <tbody>\n",
       "    <tr>\n",
       "      <th>0</th>\n",
       "      <td>22058</td>\n",
       "      <td>2015-02-24 22:55:49</td>\n",
       "      <td>2015-04-18 02:47:11</td>\n",
       "      <td>34</td>\n",
       "      <td>QVPSPJUOCKZAR</td>\n",
       "      <td>SEO</td>\n",
       "      <td>Chrome</td>\n",
       "      <td>M</td>\n",
       "      <td>39</td>\n",
       "      <td>7.327584e+08</td>\n",
       "      <td>0</td>\n",
       "    </tr>\n",
       "    <tr>\n",
       "      <th>1</th>\n",
       "      <td>333320</td>\n",
       "      <td>2015-06-07 20:39:50</td>\n",
       "      <td>2015-06-08 01:38:54</td>\n",
       "      <td>16</td>\n",
       "      <td>EOGFQPIZPYXFZ</td>\n",
       "      <td>Ads</td>\n",
       "      <td>Chrome</td>\n",
       "      <td>F</td>\n",
       "      <td>53</td>\n",
       "      <td>3.503114e+08</td>\n",
       "      <td>0</td>\n",
       "    </tr>\n",
       "    <tr>\n",
       "      <th>2</th>\n",
       "      <td>1359</td>\n",
       "      <td>2015-01-01 18:52:44</td>\n",
       "      <td>2015-01-01 18:52:45</td>\n",
       "      <td>15</td>\n",
       "      <td>YSSKYOSJHPPLJ</td>\n",
       "      <td>SEO</td>\n",
       "      <td>Opera</td>\n",
       "      <td>M</td>\n",
       "      <td>53</td>\n",
       "      <td>2.621474e+09</td>\n",
       "      <td>1</td>\n",
       "    </tr>\n",
       "    <tr>\n",
       "      <th>3</th>\n",
       "      <td>150084</td>\n",
       "      <td>2015-04-28 21:13:25</td>\n",
       "      <td>2015-05-04 13:54:50</td>\n",
       "      <td>44</td>\n",
       "      <td>ATGTXKYKUDUQN</td>\n",
       "      <td>SEO</td>\n",
       "      <td>Safari</td>\n",
       "      <td>M</td>\n",
       "      <td>41</td>\n",
       "      <td>3.840542e+09</td>\n",
       "      <td>0</td>\n",
       "    </tr>\n",
       "    <tr>\n",
       "      <th>4</th>\n",
       "      <td>221365</td>\n",
       "      <td>2015-07-21 07:09:52</td>\n",
       "      <td>2015-09-09 18:40:53</td>\n",
       "      <td>39</td>\n",
       "      <td>NAUITBZFJKHWW</td>\n",
       "      <td>Ads</td>\n",
       "      <td>Safari</td>\n",
       "      <td>M</td>\n",
       "      <td>45</td>\n",
       "      <td>4.155831e+08</td>\n",
       "      <td>0</td>\n",
       "    </tr>\n",
       "    <tr>\n",
       "      <th>5</th>\n",
       "      <td>159135</td>\n",
       "      <td>2015-05-21 06:03:03</td>\n",
       "      <td>2015-07-09 08:05:14</td>\n",
       "      <td>42</td>\n",
       "      <td>ALEYXFXINSXLZ</td>\n",
       "      <td>Ads</td>\n",
       "      <td>Chrome</td>\n",
       "      <td>M</td>\n",
       "      <td>18</td>\n",
       "      <td>2.809315e+09</td>\n",
       "      <td>0</td>\n",
       "    </tr>\n",
       "    <tr>\n",
       "      <th>6</th>\n",
       "      <td>50116</td>\n",
       "      <td>2015-08-01 22:40:52</td>\n",
       "      <td>2015-08-27 03:37:57</td>\n",
       "      <td>11</td>\n",
       "      <td>IWKVZHJOCLPUR</td>\n",
       "      <td>Ads</td>\n",
       "      <td>Chrome</td>\n",
       "      <td>F</td>\n",
       "      <td>19</td>\n",
       "      <td>3.987484e+09</td>\n",
       "      <td>0</td>\n",
       "    </tr>\n",
       "    <tr>\n",
       "      <th>7</th>\n",
       "      <td>360585</td>\n",
       "      <td>2015-04-06 07:35:45</td>\n",
       "      <td>2015-05-25 17:21:14</td>\n",
       "      <td>27</td>\n",
       "      <td>HPUCUYLMJBYFW</td>\n",
       "      <td>Ads</td>\n",
       "      <td>Opera</td>\n",
       "      <td>M</td>\n",
       "      <td>34</td>\n",
       "      <td>1.692459e+09</td>\n",
       "      <td>0</td>\n",
       "    </tr>\n",
       "    <tr>\n",
       "      <th>8</th>\n",
       "      <td>159045</td>\n",
       "      <td>2015-04-21 23:38:34</td>\n",
       "      <td>2015-06-02 14:01:54</td>\n",
       "      <td>30</td>\n",
       "      <td>ILXYDOZIHOOHT</td>\n",
       "      <td>SEO</td>\n",
       "      <td>IE</td>\n",
       "      <td>F</td>\n",
       "      <td>43</td>\n",
       "      <td>3.719094e+09</td>\n",
       "      <td>0</td>\n",
       "    </tr>\n",
       "    <tr>\n",
       "      <th>9</th>\n",
       "      <td>182338</td>\n",
       "      <td>2015-01-25 17:49:49</td>\n",
       "      <td>2015-03-23 23:05:42</td>\n",
       "      <td>62</td>\n",
       "      <td>NRFFPPHZYFUVC</td>\n",
       "      <td>Ads</td>\n",
       "      <td>IE</td>\n",
       "      <td>M</td>\n",
       "      <td>31</td>\n",
       "      <td>3.416747e+08</td>\n",
       "      <td>0</td>\n",
       "    </tr>\n",
       "    <tr>\n",
       "      <th>10</th>\n",
       "      <td>199700</td>\n",
       "      <td>2015-07-11 18:26:54</td>\n",
       "      <td>2015-10-28 21:59:40</td>\n",
       "      <td>13</td>\n",
       "      <td>TEPSJVVXGNTYR</td>\n",
       "      <td>Ads</td>\n",
       "      <td>Safari</td>\n",
       "      <td>F</td>\n",
       "      <td>35</td>\n",
       "      <td>1.819009e+09</td>\n",
       "      <td>0</td>\n",
       "    </tr>\n",
       "    <tr>\n",
       "      <th>11</th>\n",
       "      <td>73884</td>\n",
       "      <td>2015-05-29 16:22:02</td>\n",
       "      <td>2015-06-16 05:45:58</td>\n",
       "      <td>58</td>\n",
       "      <td>ZTZZJUCRDOCJZ</td>\n",
       "      <td>Direct</td>\n",
       "      <td>Chrome</td>\n",
       "      <td>M</td>\n",
       "      <td>32</td>\n",
       "      <td>4.038285e+09</td>\n",
       "      <td>0</td>\n",
       "    </tr>\n",
       "    <tr>\n",
       "      <th>12</th>\n",
       "      <td>79203</td>\n",
       "      <td>2015-06-16 21:19:35</td>\n",
       "      <td>2015-06-21 03:29:59</td>\n",
       "      <td>18</td>\n",
       "      <td>IBPNKSMCKUZWD</td>\n",
       "      <td>SEO</td>\n",
       "      <td>Safari</td>\n",
       "      <td>M</td>\n",
       "      <td>33</td>\n",
       "      <td>4.161541e+09</td>\n",
       "      <td>0</td>\n",
       "    </tr>\n",
       "    <tr>\n",
       "      <th>13</th>\n",
       "      <td>299320</td>\n",
       "      <td>2015-03-03 19:17:07</td>\n",
       "      <td>2015-04-05 12:32:36</td>\n",
       "      <td>50</td>\n",
       "      <td>RMKQNVEWGTWPC</td>\n",
       "      <td>Direct</td>\n",
       "      <td>Safari</td>\n",
       "      <td>M</td>\n",
       "      <td>38</td>\n",
       "      <td>3.178510e+09</td>\n",
       "      <td>0</td>\n",
       "    </tr>\n",
       "    <tr>\n",
       "      <th>14</th>\n",
       "      <td>82931</td>\n",
       "      <td>2015-02-16 02:50:30</td>\n",
       "      <td>2015-04-16 00:56:47</td>\n",
       "      <td>15</td>\n",
       "      <td>XKIFNYUZMBWFU</td>\n",
       "      <td>SEO</td>\n",
       "      <td>IE</td>\n",
       "      <td>M</td>\n",
       "      <td>24</td>\n",
       "      <td>4.203488e+09</td>\n",
       "      <td>0</td>\n",
       "    </tr>\n",
       "    <tr>\n",
       "      <th>15</th>\n",
       "      <td>31383</td>\n",
       "      <td>2015-02-01 01:06:17</td>\n",
       "      <td>2015-03-24 10:17:58</td>\n",
       "      <td>58</td>\n",
       "      <td>UNUAVQXNWFBMO</td>\n",
       "      <td>SEO</td>\n",
       "      <td>Safari</td>\n",
       "      <td>F</td>\n",
       "      <td>24</td>\n",
       "      <td>9.957328e+08</td>\n",
       "      <td>0</td>\n",
       "    </tr>\n",
       "    <tr>\n",
       "      <th>16</th>\n",
       "      <td>78986</td>\n",
       "      <td>2015-05-15 03:52:08</td>\n",
       "      <td>2015-08-11 02:29:47</td>\n",
       "      <td>57</td>\n",
       "      <td>TGHVAWBMZRDHH</td>\n",
       "      <td>SEO</td>\n",
       "      <td>FireFox</td>\n",
       "      <td>M</td>\n",
       "      <td>23</td>\n",
       "      <td>3.503883e+09</td>\n",
       "      <td>0</td>\n",
       "    </tr>\n",
       "    <tr>\n",
       "      <th>17</th>\n",
       "      <td>119824</td>\n",
       "      <td>2015-03-20 00:31:27</td>\n",
       "      <td>2015-04-05 07:31:46</td>\n",
       "      <td>55</td>\n",
       "      <td>WFIIFCPIOGMHT</td>\n",
       "      <td>Ads</td>\n",
       "      <td>Safari</td>\n",
       "      <td>M</td>\n",
       "      <td>38</td>\n",
       "      <td>1.314238e+05</td>\n",
       "      <td>0</td>\n",
       "    </tr>\n",
       "    <tr>\n",
       "      <th>18</th>\n",
       "      <td>357386</td>\n",
       "      <td>2015-02-03 00:48:38</td>\n",
       "      <td>2015-03-24 18:27:23</td>\n",
       "      <td>40</td>\n",
       "      <td>NWSVDOHYIOBDR</td>\n",
       "      <td>Ads</td>\n",
       "      <td>FireFox</td>\n",
       "      <td>M</td>\n",
       "      <td>24</td>\n",
       "      <td>3.037372e+09</td>\n",
       "      <td>0</td>\n",
       "    </tr>\n",
       "    <tr>\n",
       "      <th>19</th>\n",
       "      <td>289172</td>\n",
       "      <td>2015-07-17 05:48:45</td>\n",
       "      <td>2015-11-12 22:08:11</td>\n",
       "      <td>46</td>\n",
       "      <td>KFZGQIWDIRLZB</td>\n",
       "      <td>Direct</td>\n",
       "      <td>FireFox</td>\n",
       "      <td>F</td>\n",
       "      <td>53</td>\n",
       "      <td>1.044590e+09</td>\n",
       "      <td>0</td>\n",
       "    </tr>\n",
       "  </tbody>\n",
       "</table>\n",
       "</div>"
      ],
      "text/plain": [
       "    user_id          signup_time        purchase_time  purchase_value  \\\n",
       "0     22058  2015-02-24 22:55:49  2015-04-18 02:47:11              34   \n",
       "1    333320  2015-06-07 20:39:50  2015-06-08 01:38:54              16   \n",
       "2      1359  2015-01-01 18:52:44  2015-01-01 18:52:45              15   \n",
       "3    150084  2015-04-28 21:13:25  2015-05-04 13:54:50              44   \n",
       "4    221365  2015-07-21 07:09:52  2015-09-09 18:40:53              39   \n",
       "5    159135  2015-05-21 06:03:03  2015-07-09 08:05:14              42   \n",
       "6     50116  2015-08-01 22:40:52  2015-08-27 03:37:57              11   \n",
       "7    360585  2015-04-06 07:35:45  2015-05-25 17:21:14              27   \n",
       "8    159045  2015-04-21 23:38:34  2015-06-02 14:01:54              30   \n",
       "9    182338  2015-01-25 17:49:49  2015-03-23 23:05:42              62   \n",
       "10   199700  2015-07-11 18:26:54  2015-10-28 21:59:40              13   \n",
       "11    73884  2015-05-29 16:22:02  2015-06-16 05:45:58              58   \n",
       "12    79203  2015-06-16 21:19:35  2015-06-21 03:29:59              18   \n",
       "13   299320  2015-03-03 19:17:07  2015-04-05 12:32:36              50   \n",
       "14    82931  2015-02-16 02:50:30  2015-04-16 00:56:47              15   \n",
       "15    31383  2015-02-01 01:06:17  2015-03-24 10:17:58              58   \n",
       "16    78986  2015-05-15 03:52:08  2015-08-11 02:29:47              57   \n",
       "17   119824  2015-03-20 00:31:27  2015-04-05 07:31:46              55   \n",
       "18   357386  2015-02-03 00:48:38  2015-03-24 18:27:23              40   \n",
       "19   289172  2015-07-17 05:48:45  2015-11-12 22:08:11              46   \n",
       "\n",
       "        device_id  source  browser sex  age    ip_address  class  \n",
       "0   QVPSPJUOCKZAR     SEO   Chrome   M   39  7.327584e+08      0  \n",
       "1   EOGFQPIZPYXFZ     Ads   Chrome   F   53  3.503114e+08      0  \n",
       "2   YSSKYOSJHPPLJ     SEO    Opera   M   53  2.621474e+09      1  \n",
       "3   ATGTXKYKUDUQN     SEO   Safari   M   41  3.840542e+09      0  \n",
       "4   NAUITBZFJKHWW     Ads   Safari   M   45  4.155831e+08      0  \n",
       "5   ALEYXFXINSXLZ     Ads   Chrome   M   18  2.809315e+09      0  \n",
       "6   IWKVZHJOCLPUR     Ads   Chrome   F   19  3.987484e+09      0  \n",
       "7   HPUCUYLMJBYFW     Ads    Opera   M   34  1.692459e+09      0  \n",
       "8   ILXYDOZIHOOHT     SEO       IE   F   43  3.719094e+09      0  \n",
       "9   NRFFPPHZYFUVC     Ads       IE   M   31  3.416747e+08      0  \n",
       "10  TEPSJVVXGNTYR     Ads   Safari   F   35  1.819009e+09      0  \n",
       "11  ZTZZJUCRDOCJZ  Direct   Chrome   M   32  4.038285e+09      0  \n",
       "12  IBPNKSMCKUZWD     SEO   Safari   M   33  4.161541e+09      0  \n",
       "13  RMKQNVEWGTWPC  Direct   Safari   M   38  3.178510e+09      0  \n",
       "14  XKIFNYUZMBWFU     SEO       IE   M   24  4.203488e+09      0  \n",
       "15  UNUAVQXNWFBMO     SEO   Safari   F   24  9.957328e+08      0  \n",
       "16  TGHVAWBMZRDHH     SEO  FireFox   M   23  3.503883e+09      0  \n",
       "17  WFIIFCPIOGMHT     Ads   Safari   M   38  1.314238e+05      0  \n",
       "18  NWSVDOHYIOBDR     Ads  FireFox   M   24  3.037372e+09      0  \n",
       "19  KFZGQIWDIRLZB  Direct  FireFox   F   53  1.044590e+09      0  "
      ]
     },
     "execution_count": 42,
     "metadata": {},
     "output_type": "execute_result"
    }
   ],
   "source": [
    "data.head(20)"
   ]
  },
  {
   "cell_type": "code",
   "execution_count": 6,
   "metadata": {},
   "outputs": [
    {
     "data": {
      "text/plain": [
       "235"
      ]
     },
     "execution_count": 6,
     "metadata": {},
     "output_type": "execute_result"
    }
   ],
   "source": [
    "ip_country.head(10)\n",
    "ip_country.describe()\n",
    "ip_country['country'].nunique()"
   ]
  },
  {
   "cell_type": "markdown",
   "metadata": {},
   "source": [
    "Adding country column to data"
   ]
  },
  {
   "cell_type": "code",
   "execution_count": 43,
   "metadata": {},
   "outputs": [],
   "source": [
    "def transform_ip(arg):\n",
    "\n",
    "    try:\n",
    "        return ip_country.country[(ip_country.lower_bound_ip_address<arg)&(ip_country.upper_bound_ip_address>arg)].iloc[0]\n",
    "    except IndexError:\n",
    "        return \"Unknown country\"\n",
    "                                  \n",
    "data['country']=data.ip_address.apply(transform_ip)                                 "
   ]
  },
  {
   "cell_type": "code",
   "execution_count": 44,
   "metadata": {},
   "outputs": [
    {
     "data": {
      "text/html": [
       "<div>\n",
       "<style scoped>\n",
       "    .dataframe tbody tr th:only-of-type {\n",
       "        vertical-align: middle;\n",
       "    }\n",
       "\n",
       "    .dataframe tbody tr th {\n",
       "        vertical-align: top;\n",
       "    }\n",
       "\n",
       "    .dataframe thead th {\n",
       "        text-align: right;\n",
       "    }\n",
       "</style>\n",
       "<table border=\"1\" class=\"dataframe\">\n",
       "  <thead>\n",
       "    <tr style=\"text-align: right;\">\n",
       "      <th></th>\n",
       "      <th>user_id</th>\n",
       "      <th>signup_time</th>\n",
       "      <th>purchase_time</th>\n",
       "      <th>purchase_value</th>\n",
       "      <th>device_id</th>\n",
       "      <th>source</th>\n",
       "      <th>browser</th>\n",
       "      <th>sex</th>\n",
       "      <th>age</th>\n",
       "      <th>ip_address</th>\n",
       "      <th>class</th>\n",
       "      <th>country</th>\n",
       "    </tr>\n",
       "  </thead>\n",
       "  <tbody>\n",
       "    <tr>\n",
       "      <th>0</th>\n",
       "      <td>22058</td>\n",
       "      <td>2015-02-24 22:55:49</td>\n",
       "      <td>2015-04-18 02:47:11</td>\n",
       "      <td>34</td>\n",
       "      <td>QVPSPJUOCKZAR</td>\n",
       "      <td>SEO</td>\n",
       "      <td>Chrome</td>\n",
       "      <td>M</td>\n",
       "      <td>39</td>\n",
       "      <td>7.327584e+08</td>\n",
       "      <td>0</td>\n",
       "      <td>Japan</td>\n",
       "    </tr>\n",
       "    <tr>\n",
       "      <th>1</th>\n",
       "      <td>333320</td>\n",
       "      <td>2015-06-07 20:39:50</td>\n",
       "      <td>2015-06-08 01:38:54</td>\n",
       "      <td>16</td>\n",
       "      <td>EOGFQPIZPYXFZ</td>\n",
       "      <td>Ads</td>\n",
       "      <td>Chrome</td>\n",
       "      <td>F</td>\n",
       "      <td>53</td>\n",
       "      <td>3.503114e+08</td>\n",
       "      <td>0</td>\n",
       "      <td>United States</td>\n",
       "    </tr>\n",
       "    <tr>\n",
       "      <th>2</th>\n",
       "      <td>1359</td>\n",
       "      <td>2015-01-01 18:52:44</td>\n",
       "      <td>2015-01-01 18:52:45</td>\n",
       "      <td>15</td>\n",
       "      <td>YSSKYOSJHPPLJ</td>\n",
       "      <td>SEO</td>\n",
       "      <td>Opera</td>\n",
       "      <td>M</td>\n",
       "      <td>53</td>\n",
       "      <td>2.621474e+09</td>\n",
       "      <td>1</td>\n",
       "      <td>United States</td>\n",
       "    </tr>\n",
       "    <tr>\n",
       "      <th>3</th>\n",
       "      <td>150084</td>\n",
       "      <td>2015-04-28 21:13:25</td>\n",
       "      <td>2015-05-04 13:54:50</td>\n",
       "      <td>44</td>\n",
       "      <td>ATGTXKYKUDUQN</td>\n",
       "      <td>SEO</td>\n",
       "      <td>Safari</td>\n",
       "      <td>M</td>\n",
       "      <td>41</td>\n",
       "      <td>3.840542e+09</td>\n",
       "      <td>0</td>\n",
       "      <td>Unknown country</td>\n",
       "    </tr>\n",
       "    <tr>\n",
       "      <th>4</th>\n",
       "      <td>221365</td>\n",
       "      <td>2015-07-21 07:09:52</td>\n",
       "      <td>2015-09-09 18:40:53</td>\n",
       "      <td>39</td>\n",
       "      <td>NAUITBZFJKHWW</td>\n",
       "      <td>Ads</td>\n",
       "      <td>Safari</td>\n",
       "      <td>M</td>\n",
       "      <td>45</td>\n",
       "      <td>4.155831e+08</td>\n",
       "      <td>0</td>\n",
       "      <td>United States</td>\n",
       "    </tr>\n",
       "  </tbody>\n",
       "</table>\n",
       "</div>"
      ],
      "text/plain": [
       "   user_id          signup_time        purchase_time  purchase_value  \\\n",
       "0    22058  2015-02-24 22:55:49  2015-04-18 02:47:11              34   \n",
       "1   333320  2015-06-07 20:39:50  2015-06-08 01:38:54              16   \n",
       "2     1359  2015-01-01 18:52:44  2015-01-01 18:52:45              15   \n",
       "3   150084  2015-04-28 21:13:25  2015-05-04 13:54:50              44   \n",
       "4   221365  2015-07-21 07:09:52  2015-09-09 18:40:53              39   \n",
       "\n",
       "       device_id source browser sex  age    ip_address  class          country  \n",
       "0  QVPSPJUOCKZAR    SEO  Chrome   M   39  7.327584e+08      0            Japan  \n",
       "1  EOGFQPIZPYXFZ    Ads  Chrome   F   53  3.503114e+08      0    United States  \n",
       "2  YSSKYOSJHPPLJ    SEO   Opera   M   53  2.621474e+09      1    United States  \n",
       "3  ATGTXKYKUDUQN    SEO  Safari   M   41  3.840542e+09      0  Unknown country  \n",
       "4  NAUITBZFJKHWW    Ads  Safari   M   45  4.155831e+08      0    United States  "
      ]
     },
     "execution_count": 44,
     "metadata": {},
     "output_type": "execute_result"
    }
   ],
   "source": [
    "data.head()"
   ]
  },
  {
   "cell_type": "code",
   "execution_count": 9,
   "metadata": {},
   "outputs": [
    {
     "data": {
      "text/plain": [
       "<AxesSubplot:xlabel='browser', ylabel='class'>"
      ]
     },
     "execution_count": 9,
     "metadata": {},
     "output_type": "execute_result"
    },
    {
     "data": {
      "image/png": "[encoded data removed]",
      "text/plain": [
       "<Figure size 432x288 with 1 Axes>"
      ]
     },
     "metadata": {
      "needs_background": "light"
     },
     "output_type": "display_data"
    }
   ],
   "source": [
    "sns.barplot(x=\"browser\", y=\"class\", data=data)"
   ]
  },
  {
   "cell_type": "code",
   "execution_count": 14,
   "metadata": {},
   "outputs": [
    {
     "data": {
      "text/plain": [
       "<AxesSubplot:xlabel='source', ylabel='class'>"
      ]
     },
     "execution_count": 14,
     "metadata": {},
     "output_type": "execute_result"
    },
    {
     "data": {
      "image/png": "[encoded data removed]",
      "text/plain": [
       "<Figure size 432x288 with 1 Axes>"
      ]
     },
     "metadata": {
      "needs_background": "light"
     },
     "output_type": "display_data"
    }
   ],
   "source": [
    "sns.barplot(x=\"source\", y=\"class\", data=data)"
   ]
  },
  {
   "cell_type": "code",
   "execution_count": 15,
   "metadata": {},
   "outputs": [
    {
     "data": {
      "image/png": "[encoded data removed]",
      "text/plain": [
       "<Figure size 720x720 with 1 Axes>"
      ]
     },
     "metadata": {
      "needs_background": "light"
     },
     "output_type": "display_data"
    }
   ],
   "source": [
    "plt.figure(figsize=(10,10))\n",
    "ax = sns.barplot(x=\"country\", y=\"class\", data=data)\n",
    "ax.set_xticklabels(ax.get_xticklabels(), rotation=40, ha=\"right\",fontsize=2)\n",
    "plt.tight_layout()\n",
    "plt.show()\n"
   ]
  },
  {
   "cell_type": "markdown",
   "metadata": {},
   "source": [
    "filtering by countries>50 samples"
   ]
  },
  {
   "cell_type": "code",
   "execution_count": 45,
   "metadata": {},
   "outputs": [
    {
     "name": "stdout",
     "output_type": "stream",
     "text": [
      "['United States' 'Unknown country' 'China' 'Japan' 'United Kingdom'\n",
      " 'Korea Republic of' 'Germany' 'France' 'Canada' 'Brazil' 'Italy'\n",
      " 'Australia' 'Netherlands' 'Russian Federation' 'India'\n",
      " 'Taiwan; Republic of China (ROC)' 'Mexico' 'Sweden' 'Spain'\n",
      " 'South Africa' 'Switzerland' 'Poland' 'Argentina' 'Indonesia' 'Norway'\n",
      " 'Colombia' 'Turkey' 'Viet Nam' 'Romania' 'Denmark' 'Hong Kong' 'Finland'\n",
      " 'Austria' 'Ukraine' 'Chile' 'Belgium' 'Iran (ISLAMIC Republic Of)'\n",
      " 'Egypt' 'Czech Republic' 'Thailand' 'New Zealand' 'Israel' 'Saudi Arabia'\n",
      " 'Venezuela' 'Ireland' 'European Union' 'Greece' 'Portugal' 'Hungary'\n",
      " 'Malaysia' 'Singapore' 'Pakistan' 'Philippines' 'Bulgaria' 'Morocco'\n",
      " 'Algeria' 'Peru' 'Tunisia' 'United Arab Emirates' 'Ecuador' 'Lithuania'\n",
      " 'Seychelles' 'Kenya' 'Kazakhstan' 'Kuwait' 'Costa Rica' 'Slovenia'\n",
      " 'Slovakia (SLOVAK Republic)' 'Uruguay' 'Croatia (LOCAL Name: Hrvatska)'\n",
      " 'Luxembourg' 'Belarus' 'Serbia' 'Nigeria' 'Latvia' 'Panama' 'Bolivia'\n",
      " 'Dominican Republic']\n"
     ]
    }
   ],
   "source": [
    "country_counts = data['country'].value_counts()\n",
    "print(country_counts[country_counts > 50].index.values)"
   ]
  },
  {
   "cell_type": "markdown",
   "metadata": {},
   "source": [
    "Droping lines with rare values of country_name (< 50 occurences)"
   ]
  },
  {
   "cell_type": "code",
   "execution_count": 46,
   "metadata": {},
   "outputs": [],
   "source": [
    "to_keep = country_counts[country_counts > 50].index.values\n",
    "data = data.loc[data['country'].isin(to_keep), :]"
   ]
  },
  {
   "cell_type": "code",
   "execution_count": 18,
   "metadata": {},
   "outputs": [
    {
     "data": {
      "image/png": "[encoded data removed]",
      "text/plain": [
       "<Figure size 720x720 with 1 Axes>"
      ]
     },
     "metadata": {
      "needs_background": "light"
     },
     "output_type": "display_data"
    }
   ],
   "source": [
    "plt.figure(figsize=(10,10))\n",
    "ax = sns.barplot(x=\"country\", y=\"class\", data=data)\n",
    "ax.set_xticklabels(ax.get_xticklabels(), rotation=40, ha=\"right\",fontsize=7)\n",
    "plt.tight_layout()\n",
    "plt.show()"
   ]
  },
  {
   "cell_type": "code",
   "execution_count": 19,
   "metadata": {},
   "outputs": [
    {
     "data": {
      "text/plain": [
       "<AxesSubplot:xlabel='age', ylabel='purchase_value'>"
      ]
     },
     "execution_count": 19,
     "metadata": {},
     "output_type": "execute_result"
    },
    {
     "data": {
      "image/png": "[encoded data removed]",
      "text/plain": [
       "<Figure size 432x288 with 1 Axes>"
      ]
     },
     "metadata": {
      "needs_background": "light"
     },
     "output_type": "display_data"
    }
   ],
   "source": [
    "sns.scatterplot(data=data, x=\"age\", y=\"purchase_value\", hue=\"class\")"
   ]
  },
  {
   "cell_type": "markdown",
   "metadata": {},
   "source": [
    "Estimating time attributes from datetime data"
   ]
  },
  {
   "cell_type": "code",
   "execution_count": 47,
   "metadata": {},
   "outputs": [],
   "source": [
    "from datetime import datetime\n",
    "import datetime as dt\n",
    "from datetime import timedelta\n",
    "\n",
    "data.loc[:, 'signup_time']=pd.to_datetime(data.loc[:, 'signup_time'])\n",
    "data.loc[:, 'purchase_time']=pd.to_datetime(data.loc[:, 'purchase_time'])\n",
    "t1=pd.to_datetime(data.signup_time)\n",
    "t2=pd.to_datetime(data.purchase_time)\n",
    "\n",
    "data['dt']=pd.to_timedelta(t2 - t1)\n",
    "data['hour'] =(data['dt'].dt.days*24)+(data['dt'].dt.seconds/3600)\n",
    "data['month'] = pd.DatetimeIndex(data['purchase_time']).month"
   ]
  },
  {
   "cell_type": "code",
   "execution_count": 56,
   "metadata": {},
   "outputs": [
    {
     "data": {
      "text/plain": [
       "<AxesSubplot:xlabel='month', ylabel='class'>"
      ]
     },
     "execution_count": 56,
     "metadata": {},
     "output_type": "execute_result"
    },
    {
     "data": {
      "image/png": "[encoded data removed]",
      "text/plain": [
       "<Figure size 432x288 with 1 Axes>"
      ]
     },
     "metadata": {
      "needs_background": "light"
     },
     "output_type": "display_data"
    }
   ],
   "source": [
    "sns.barplot(x=\"month\", y=\"class\", data=data)"
   ]
  },
  {
   "cell_type": "markdown",
   "metadata": {},
   "source": [
    "# DATA CLEANING"
   ]
  },
  {
   "cell_type": "code",
   "execution_count": 50,
   "metadata": {},
   "outputs": [],
   "source": [
    "# Drop columns with too many unique values\n",
    "#data = data.drop(['signup_time', 'purchase_time', 'device_id','ip_address','dt','user_id'], axis=1)\n",
    "data.head(20)\n",
    "data1=data"
   ]
  },
  {
   "cell_type": "code",
   "execution_count": 51,
   "metadata": {},
   "outputs": [],
   "source": [
    "#storing cleaned dataframe in csv\n",
    "data.to_csv(\"fraude_activities_dataset_cleaned.csv\",index_label=None,index=False)"
   ]
  },
  {
   "cell_type": "code",
   "execution_count": 52,
   "metadata": {},
   "outputs": [
    {
     "data": {
      "text/html": [
       "<div>\n",
       "<style scoped>\n",
       "    .dataframe tbody tr th:only-of-type {\n",
       "        vertical-align: middle;\n",
       "    }\n",
       "\n",
       "    .dataframe tbody tr th {\n",
       "        vertical-align: top;\n",
       "    }\n",
       "\n",
       "    .dataframe thead th {\n",
       "        text-align: right;\n",
       "    }\n",
       "</style>\n",
       "<table border=\"1\" class=\"dataframe\">\n",
       "  <thead>\n",
       "    <tr style=\"text-align: right;\">\n",
       "      <th></th>\n",
       "      <th>purchase_value</th>\n",
       "      <th>source</th>\n",
       "      <th>browser</th>\n",
       "      <th>sex</th>\n",
       "      <th>age</th>\n",
       "      <th>class</th>\n",
       "      <th>country</th>\n",
       "      <th>hour</th>\n",
       "      <th>month</th>\n",
       "    </tr>\n",
       "  </thead>\n",
       "  <tbody>\n",
       "    <tr>\n",
       "      <th>0</th>\n",
       "      <td>34</td>\n",
       "      <td>SEO</td>\n",
       "      <td>Chrome</td>\n",
       "      <td>M</td>\n",
       "      <td>39</td>\n",
       "      <td>0</td>\n",
       "      <td>Japan</td>\n",
       "      <td>1251.856111</td>\n",
       "      <td>4</td>\n",
       "    </tr>\n",
       "    <tr>\n",
       "      <th>1</th>\n",
       "      <td>16</td>\n",
       "      <td>Ads</td>\n",
       "      <td>Chrome</td>\n",
       "      <td>F</td>\n",
       "      <td>53</td>\n",
       "      <td>0</td>\n",
       "      <td>United States</td>\n",
       "      <td>4.984444</td>\n",
       "      <td>6</td>\n",
       "    </tr>\n",
       "    <tr>\n",
       "      <th>2</th>\n",
       "      <td>15</td>\n",
       "      <td>SEO</td>\n",
       "      <td>Opera</td>\n",
       "      <td>M</td>\n",
       "      <td>53</td>\n",
       "      <td>1</td>\n",
       "      <td>United States</td>\n",
       "      <td>0.000278</td>\n",
       "      <td>1</td>\n",
       "    </tr>\n",
       "    <tr>\n",
       "      <th>3</th>\n",
       "      <td>44</td>\n",
       "      <td>SEO</td>\n",
       "      <td>Safari</td>\n",
       "      <td>M</td>\n",
       "      <td>41</td>\n",
       "      <td>0</td>\n",
       "      <td>Unknown country</td>\n",
       "      <td>136.690278</td>\n",
       "      <td>5</td>\n",
       "    </tr>\n",
       "    <tr>\n",
       "      <th>4</th>\n",
       "      <td>39</td>\n",
       "      <td>Ads</td>\n",
       "      <td>Safari</td>\n",
       "      <td>M</td>\n",
       "      <td>45</td>\n",
       "      <td>0</td>\n",
       "      <td>United States</td>\n",
       "      <td>1211.516944</td>\n",
       "      <td>9</td>\n",
       "    </tr>\n",
       "  </tbody>\n",
       "</table>\n",
       "</div>"
      ],
      "text/plain": [
       "   purchase_value source browser sex  age  class          country  \\\n",
       "0              34    SEO  Chrome   M   39      0            Japan   \n",
       "1              16    Ads  Chrome   F   53      0    United States   \n",
       "2              15    SEO   Opera   M   53      1    United States   \n",
       "3              44    SEO  Safari   M   41      0  Unknown country   \n",
       "4              39    Ads  Safari   M   45      0    United States   \n",
       "\n",
       "          hour  month  \n",
       "0  1251.856111      4  \n",
       "1     4.984444      6  \n",
       "2     0.000278      1  \n",
       "3   136.690278      5  \n",
       "4  1211.516944      9  "
      ]
     },
     "execution_count": 52,
     "metadata": {},
     "output_type": "execute_result"
    }
   ],
   "source": [
    "data_cleaned=pd.read_csv(\"fraude_activities_dataset_cleaned.csv\",index_col=False)\n",
    "data_cleaned.head()\n"
   ]
  },
  {
   "cell_type": "code",
   "execution_count": 53,
   "metadata": {},
   "outputs": [],
   "source": [
    "features_list = ['purchase_value','source','browser','age','sex','country','month','hour']\n",
    "\n",
    "target_name = 'class'"
   ]
  },
  {
   "cell_type": "code",
   "execution_count": 54,
   "metadata": {},
   "outputs": [
    {
     "name": "stdout",
     "output_type": "stream",
     "text": [
      "Separating labels from features...\n",
      "...Done.\n",
      "0    0\n",
      "1    0\n",
      "2    1\n",
      "3    0\n",
      "4    0\n",
      "Name: class, dtype: int64\n",
      "\n",
      "   purchase_value source browser sex  age          country         hour  month\n",
      "0              34    SEO  Chrome   M   39            Japan  1251.856111      4\n",
      "1              16    Ads  Chrome   F   53    United States     4.984444      6\n",
      "2              15    SEO   Opera   M   53    United States     0.000278      1\n",
      "3              44    SEO  Safari   M   41  Unknown country   136.690278      5\n",
      "4              39    Ads  Safari   M   45    United States  1211.516944      9\n",
      "\n"
     ]
    }
   ],
   "source": [
    "# Separate target variable Y from features X\n",
    "print(\"Separating labels from features...\")\n",
    "Y = data_cleaned.loc[:,target_name]\n",
    "X = data_cleaned.loc[:,[c for c in data_cleaned.columns if c!=target_name]] \n",
    "print(\"...Done.\")\n",
    "print(Y.head())\n",
    "print()\n",
    "print(X.head())\n",
    "print()"
   ]
  },
  {
   "cell_type": "code",
   "execution_count": 58,
   "metadata": {},
   "outputs": [
    {
     "name": "stdout",
     "output_type": "stream",
     "text": [
      "Convert pandas DataFrames to numpy arrays...\n",
      "...Done\n",
      "[[34 'SEO' 'Chrome' 'M' 39 'Japan' 1251.8561111111112 4]\n",
      " [16 'Ads' 'Chrome' 'F' 53 'United States' 4.984444444444446 6]\n",
      " [15 'SEO' 'Opera' 'M' 53 'United States' 0.00027777777777777783 1]\n",
      " [44 'SEO' 'Safari' 'M' 41 'Unknown country' 136.69027777777777 5]\n",
      " [39 'Ads' 'Safari' 'M' 45 'United States' 1211.5169444444443 9]]\n",
      "\n",
      "[0, 0, 1, 0, 0]\n"
     ]
    }
   ],
   "source": [
    "# Convert pandas DataFrames to numpy arrays before using scikit-learn\n",
    "print(\"Convert pandas DataFrames to numpy arrays...\")\n",
    "X = X.values\n",
    "Y = Y.tolist()\n",
    "print(\"...Done\")\n",
    "print(X[0:5,:])\n",
    "print()\n",
    "print(Y[0:5])"
   ]
  },
  {
   "cell_type": "code",
   "execution_count": 61,
   "metadata": {},
   "outputs": [
    {
     "name": "stdout",
     "output_type": "stream",
     "text": [
      "Dividing into train and test sets...\n",
      "...Done.\n",
      "\n"
     ]
    }
   ],
   "source": [
    "# Divide dataset into train set & test set \n",
    "print(\"Dividing into train and test sets...\")\n",
    "X_train, X_test, Y_train, Y_test = train_test_split(X, Y, test_size=0.2, random_state=0, stratify=Y) # stratified splitting because we have an imbalanced dataset !!\n",
    "print(\"...Done.\")\n",
    "print()"
   ]
  },
  {
   "cell_type": "code",
   "execution_count": 62,
   "metadata": {
    "collapsed": true,
    "jupyter": {
     "outputs_hidden": true
    }
   },
   "outputs": [
    {
     "name": "stdout",
     "output_type": "stream",
     "text": [
      "Performing preprocessings on train set...\n",
      "[[29 'SEO' 'FireFox' 'F' 24 'Japan' 110.85583333333334 5]\n",
      " [19 'SEO' 'IE' 'M' 30 'United States' 1818.0808333333332 10]\n",
      " [52 'Direct' 'IE' 'M' 37 'Unknown country' 0.00027777777777777783 1]\n",
      " [44 'Direct' 'Chrome' 'F' 31 'United States' 72.77166666666666 5]\n",
      " [16 'Direct' 'Chrome' 'F' 42 'United States' 819.2736111111111 6]]\n",
      "...Done.\n",
      "  (0, 0)\t-0.43296254252665767\n",
      "  (0, 1)\t-1.0591256639796414\n",
      "  (0, 2)\t-1.4478388621940075\n",
      "  (0, 4)\t1.0\n",
      "  (0, 5)\t1.0\n",
      "  (0, 42)\t1.0\n",
      "  (0, 90)\t1.0\n",
      "  (1, 0)\t-0.9785247924444799\n",
      "  (1, 1)\t-0.36227925966760166\n",
      "  (1, 2)\t0.5175229812597264\n",
      "  (1, 4)\t1.0\n",
      "  (1, 6)\t1.0\n",
      "  (1, 9)\t1.0\n",
      "  (1, 82)\t1.0\n",
      "  (1, 95)\t1.0\n",
      "  (2, 0)\t0.8218306322843335\n",
      "  (2, 1)\t0.450708212029778\n",
      "  (2, 2)\t-1.5754560649784994\n",
      "  (2, 3)\t1.0\n",
      "  (2, 6)\t1.0\n",
      "  (2, 9)\t1.0\n",
      "  (2, 83)\t1.0\n",
      "  (3, 0)\t0.3853808323500757\n",
      "  (3, 1)\t-0.24613819228226172\n",
      "  (3, 2)\t-1.4916814535375027\n",
      "  (3, 3)\t1.0\n",
      "  (3, 82)\t1.0\n",
      "  (3, 90)\t1.0\n",
      "  (4, 0)\t-1.1421934674198266\n",
      "  (4, 1)\t1.0314135489564777\n",
      "  (4, 2)\t-0.632306480891759\n",
      "  (4, 3)\t1.0\n",
      "  (4, 82)\t1.0\n",
      "  (4, 91)\t1.0\n",
      "\n",
      "Performing preprocessings on test set...\n",
      "[[18 'SEO' 'Safari' 'M' 27 'United States' 947.3997222222223 7]\n",
      " [37 'SEO' 'IE' 'F' 41 'Japan' 801.515 5]\n",
      " [30 'Ads' 'IE' 'F' 30 'United States' 32.19083333333333 3]\n",
      " [10 'Ads' 'Chrome' 'M' 29 'Brazil' 1357.4577777777777 6]\n",
      " [43 'Ads' 'Chrome' 'M' 44 'Sweden' 1042.8838888888888 6]]\n",
      "...Done.\n",
      "  (0, 0)\t-1.0330810174362621\n",
      "  (0, 1)\t-0.7107024618236215\n",
      "  (0, 2)\t-0.4848073698033603\n",
      "  (0, 4)\t1.0\n",
      "  (0, 8)\t1.0\n",
      "  (0, 9)\t1.0\n",
      "  (0, 82)\t1.0\n",
      "  (0, 92)\t1.0\n",
      "  (1, 0)\t0.003487257407600134\n",
      "  (1, 1)\t0.9152724815711378\n",
      "  (1, 2)\t-0.6527502400157826\n",
      "  (1, 4)\t1.0\n",
      "  (1, 6)\t1.0\n",
      "  (1, 42)\t1.0\n",
      "  (1, 90)\t1.0\n",
      "  (2, 0)\t-0.3784063175348754\n",
      "  (2, 1)\t-0.36227925966760166\n",
      "  (2, 2)\t-1.538398214016578\n",
      "  (2, 6)\t1.0\n",
      "  (2, 82)\t1.0\n",
      "  (2, 88)\t1.0\n",
      "  (3, 0)\t-1.46953081737052\n",
      "  (3, 1)\t-0.47842032705294163\n",
      "  (3, 2)\t-0.012747473779274493\n",
      "  (3, 9)\t1.0\n",
      "  (3, 16)\t1.0\n",
      "  (3, 91)\t1.0\n",
      "  (4, 0)\t0.33082460735829344\n",
      "  (4, 1)\t1.2636956837271576\n",
      "  (4, 2)\t-0.3748857497353299\n",
      "  (4, 9)\t1.0\n",
      "  (4, 73)\t1.0\n",
      "  (4, 91)\t1.0\n",
      "\n"
     ]
    }
   ],
   "source": [
    "# Create pipeline for numeric features\n",
    "numeric_features = [0, 4, 6] # Positions of numeric columns in X_train/X_test\n",
    "numeric_transformer = Pipeline(steps=[\n",
    "    ('scaler', StandardScaler())\n",
    "])\n",
    "\n",
    "# Create pipeline for categorical features\n",
    "categorical_features = [1, 2, 3, 5, 7] # Positions of categorical columns in X_train/X_test\n",
    "categorical_transformer = Pipeline(\n",
    "    steps=[\n",
    "    ('encoder', OneHotEncoder(drop='first')) # first column will be dropped to avoid creating correlations between features\n",
    "    ])\n",
    "\n",
    "# Use ColumnTransformer to make a preprocessor object that describes all the treatments to be done\n",
    "preprocessor = ColumnTransformer(\n",
    "    transformers=[\n",
    "        ('num', numeric_transformer, numeric_features),\n",
    "        ('cat', categorical_transformer, categorical_features)\n",
    "    ])\n",
    "\n",
    "# Preprocessing on train set\n",
    "print(\"Performing preprocessings on train set...\")\n",
    "print(X_train[0:5,:])\n",
    "X_train = preprocessor.fit_transform(X_train)\n",
    "print('...Done.')\n",
    "print(X_train[0:5,:])\n",
    "print()\n",
    "\n",
    "# Preprocessing on test set\n",
    "print(\"Performing preprocessings on test set...\")\n",
    "print(X_test[0:5,:])\n",
    "X_test = preprocessor.transform(X_test) # Don't fit again !! The test set is used for validating decisions\n",
    "print('...Done.')\n",
    "print(X_test[0:5,:])\n",
    "print()"
   ]
  },
  {
   "cell_type": "markdown",
   "metadata": {},
   "source": [
    "# Trying different classifiers"
   ]
  },
  {
   "cell_type": "code",
   "execution_count": 63,
   "metadata": {},
   "outputs": [
    {
     "name": "stdout",
     "output_type": "stream",
     "text": [
      "Training model...\n",
      "Fitting 5 folds for each of 15 candidates, totalling 75 fits\n",
      "[CV] max_depth=4, n_estimators=100 ...................................\n"
     ]
    },
    {
     "name": "stderr",
     "output_type": "stream",
     "text": [
      "[Parallel(n_jobs=1)]: Using backend SequentialBackend with 1 concurrent workers.\n"
     ]
    },
    {
     "name": "stdout",
     "output_type": "stream",
     "text": [
      "[CV] .................... max_depth=4, n_estimators=100, total=   2.6s\n",
      "[CV] max_depth=4, n_estimators=100 ...................................\n"
     ]
    },
    {
     "name": "stderr",
     "output_type": "stream",
     "text": [
      "[Parallel(n_jobs=1)]: Done   1 out of   1 | elapsed:    2.6s remaining:    0.0s\n"
     ]
    },
    {
     "name": "stdout",
     "output_type": "stream",
     "text": [
      "[CV] .................... max_depth=4, n_estimators=100, total=   2.5s\n",
      "[CV] max_depth=4, n_estimators=100 ...................................\n",
      "[CV] .................... max_depth=4, n_estimators=100, total=   2.5s\n",
      "[CV] max_depth=4, n_estimators=100 ...................................\n",
      "[CV] .................... max_depth=4, n_estimators=100, total=   2.5s\n",
      "[CV] max_depth=4, n_estimators=100 ...................................\n",
      "[CV] .................... max_depth=4, n_estimators=100, total=   2.6s\n",
      "[CV] max_depth=4, n_estimators=120 ...................................\n",
      "[CV] .................... max_depth=4, n_estimators=120, total=   3.0s\n",
      "[CV] max_depth=4, n_estimators=120 ...................................\n",
      "[CV] .................... max_depth=4, n_estimators=120, total=   3.0s\n",
      "[CV] max_depth=4, n_estimators=120 ...................................\n",
      "[CV] .................... max_depth=4, n_estimators=120, total=   2.9s\n",
      "[CV] max_depth=4, n_estimators=120 ...................................\n",
      "[CV] .................... max_depth=4, n_estimators=120, total=   3.0s\n",
      "[CV] max_depth=4, n_estimators=120 ...................................\n",
      "[CV] .................... max_depth=4, n_estimators=120, total=   2.9s\n",
      "[CV] max_depth=4, n_estimators=140 ...................................\n",
      "[CV] .................... max_depth=4, n_estimators=140, total=   3.4s\n",
      "[CV] max_depth=4, n_estimators=140 ...................................\n",
      "[CV] .................... max_depth=4, n_estimators=140, total=   3.5s\n",
      "[CV] max_depth=4, n_estimators=140 ...................................\n",
      "[CV] .................... max_depth=4, n_estimators=140, total=   3.5s\n",
      "[CV] max_depth=4, n_estimators=140 ...................................\n",
      "[CV] .................... max_depth=4, n_estimators=140, total=   3.4s\n",
      "[CV] max_depth=4, n_estimators=140 ...................................\n",
      "[CV] .................... max_depth=4, n_estimators=140, total=   3.3s\n",
      "[CV] max_depth=4, n_estimators=160 ...................................\n",
      "[CV] .................... max_depth=4, n_estimators=160, total=   3.8s\n",
      "[CV] max_depth=4, n_estimators=160 ...................................\n",
      "[CV] .................... max_depth=4, n_estimators=160, total=   3.9s\n",
      "[CV] max_depth=4, n_estimators=160 ...................................\n",
      "[CV] .................... max_depth=4, n_estimators=160, total=   4.1s\n",
      "[CV] max_depth=4, n_estimators=160 ...................................\n",
      "[CV] .................... max_depth=4, n_estimators=160, total=   3.9s\n",
      "[CV] max_depth=4, n_estimators=160 ...................................\n",
      "[CV] .................... max_depth=4, n_estimators=160, total=   4.1s\n",
      "[CV] max_depth=4, n_estimators=180 ...................................\n",
      "[CV] .................... max_depth=4, n_estimators=180, total=   4.4s\n",
      "[CV] max_depth=4, n_estimators=180 ...................................\n",
      "[CV] .................... max_depth=4, n_estimators=180, total=   4.5s\n",
      "[CV] max_depth=4, n_estimators=180 ...................................\n",
      "[CV] .................... max_depth=4, n_estimators=180, total=   4.4s\n",
      "[CV] max_depth=4, n_estimators=180 ...................................\n",
      "[CV] .................... max_depth=4, n_estimators=180, total=   4.4s\n",
      "[CV] max_depth=4, n_estimators=180 ...................................\n",
      "[CV] .................... max_depth=4, n_estimators=180, total=   4.3s\n",
      "[CV] max_depth=6, n_estimators=100 ...................................\n",
      "[CV] .................... max_depth=6, n_estimators=100, total=   3.3s\n",
      "[CV] max_depth=6, n_estimators=100 ...................................\n",
      "[CV] .................... max_depth=6, n_estimators=100, total=   3.2s\n",
      "[CV] max_depth=6, n_estimators=100 ...................................\n",
      "[CV] .................... max_depth=6, n_estimators=100, total=   3.4s\n",
      "[CV] max_depth=6, n_estimators=100 ...................................\n",
      "[CV] .................... max_depth=6, n_estimators=100, total=   3.3s\n",
      "[CV] max_depth=6, n_estimators=100 ...................................\n",
      "[CV] .................... max_depth=6, n_estimators=100, total=   3.3s\n",
      "[CV] max_depth=6, n_estimators=120 ...................................\n",
      "[CV] .................... max_depth=6, n_estimators=120, total=   4.2s\n",
      "[CV] max_depth=6, n_estimators=120 ...................................\n",
      "[CV] .................... max_depth=6, n_estimators=120, total=   4.2s\n",
      "[CV] max_depth=6, n_estimators=120 ...................................\n",
      "[CV] .................... max_depth=6, n_estimators=120, total=   4.1s\n",
      "[CV] max_depth=6, n_estimators=120 ...................................\n",
      "[CV] .................... max_depth=6, n_estimators=120, total=   4.1s\n",
      "[CV] max_depth=6, n_estimators=120 ...................................\n",
      "[CV] .................... max_depth=6, n_estimators=120, total=   4.1s\n",
      "[CV] max_depth=6, n_estimators=140 ...................................\n",
      "[CV] .................... max_depth=6, n_estimators=140, total=   4.6s\n",
      "[CV] max_depth=6, n_estimators=140 ...................................\n",
      "[CV] .................... max_depth=6, n_estimators=140, total=   4.8s\n",
      "[CV] max_depth=6, n_estimators=140 ...................................\n",
      "[CV] .................... max_depth=6, n_estimators=140, total=   4.7s\n",
      "[CV] max_depth=6, n_estimators=140 ...................................\n",
      "[CV] .................... max_depth=6, n_estimators=140, total=   4.9s\n",
      "[CV] max_depth=6, n_estimators=140 ...................................\n",
      "[CV] .................... max_depth=6, n_estimators=140, total=   4.8s\n",
      "[CV] max_depth=6, n_estimators=160 ...................................\n",
      "[CV] .................... max_depth=6, n_estimators=160, total=   5.3s\n",
      "[CV] max_depth=6, n_estimators=160 ...................................\n",
      "[CV] .................... max_depth=6, n_estimators=160, total=   5.5s\n",
      "[CV] max_depth=6, n_estimators=160 ...................................\n",
      "[CV] .................... max_depth=6, n_estimators=160, total=   5.2s\n",
      "[CV] max_depth=6, n_estimators=160 ...................................\n",
      "[CV] .................... max_depth=6, n_estimators=160, total=   5.3s\n",
      "[CV] max_depth=6, n_estimators=160 ...................................\n",
      "[CV] .................... max_depth=6, n_estimators=160, total=   5.4s\n",
      "[CV] max_depth=6, n_estimators=180 ...................................\n",
      "[CV] .................... max_depth=6, n_estimators=180, total=   6.0s\n",
      "[CV] max_depth=6, n_estimators=180 ...................................\n",
      "[CV] .................... max_depth=6, n_estimators=180, total=   6.3s\n",
      "[CV] max_depth=6, n_estimators=180 ...................................\n",
      "[CV] .................... max_depth=6, n_estimators=180, total=   6.2s\n",
      "[CV] max_depth=6, n_estimators=180 ...................................\n",
      "[CV] .................... max_depth=6, n_estimators=180, total=   6.1s\n",
      "[CV] max_depth=6, n_estimators=180 ...................................\n",
      "[CV] .................... max_depth=6, n_estimators=180, total=   5.9s\n",
      "[CV] max_depth=8, n_estimators=100 ...................................\n",
      "[CV] .................... max_depth=8, n_estimators=100, total=   4.6s\n",
      "[CV] max_depth=8, n_estimators=100 ...................................\n",
      "[CV] .................... max_depth=8, n_estimators=100, total=   4.7s\n",
      "[CV] max_depth=8, n_estimators=100 ...................................\n",
      "[CV] .................... max_depth=8, n_estimators=100, total=   4.5s\n",
      "[CV] max_depth=8, n_estimators=100 ...................................\n",
      "[CV] .................... max_depth=8, n_estimators=100, total=   4.6s\n",
      "[CV] max_depth=8, n_estimators=100 ...................................\n",
      "[CV] .................... max_depth=8, n_estimators=100, total=   4.4s\n",
      "[CV] max_depth=8, n_estimators=120 ...................................\n",
      "[CV] .................... max_depth=8, n_estimators=120, total=   5.6s\n",
      "[CV] max_depth=8, n_estimators=120 ...................................\n",
      "[CV] .................... max_depth=8, n_estimators=120, total=   5.6s\n",
      "[CV] max_depth=8, n_estimators=120 ...................................\n",
      "[CV] .................... max_depth=8, n_estimators=120, total=   5.6s\n",
      "[CV] max_depth=8, n_estimators=120 ...................................\n",
      "[CV] .................... max_depth=8, n_estimators=120, total=   5.7s\n",
      "[CV] max_depth=8, n_estimators=120 ...................................\n",
      "[CV] .................... max_depth=8, n_estimators=120, total=   5.5s\n",
      "[CV] max_depth=8, n_estimators=140 ...................................\n",
      "[CV] .................... max_depth=8, n_estimators=140, total=   6.3s\n",
      "[CV] max_depth=8, n_estimators=140 ...................................\n",
      "[CV] .................... max_depth=8, n_estimators=140, total=   6.2s\n",
      "[CV] max_depth=8, n_estimators=140 ...................................\n",
      "[CV] .................... max_depth=8, n_estimators=140, total=   6.2s\n",
      "[CV] max_depth=8, n_estimators=140 ...................................\n",
      "[CV] .................... max_depth=8, n_estimators=140, total=   6.4s\n",
      "[CV] max_depth=8, n_estimators=140 ...................................\n",
      "[CV] .................... max_depth=8, n_estimators=140, total=   6.4s\n",
      "[CV] max_depth=8, n_estimators=160 ...................................\n",
      "[CV] .................... max_depth=8, n_estimators=160, total=   7.3s\n",
      "[CV] max_depth=8, n_estimators=160 ...................................\n",
      "[CV] .................... max_depth=8, n_estimators=160, total=   7.2s\n",
      "[CV] max_depth=8, n_estimators=160 ...................................\n",
      "[CV] .................... max_depth=8, n_estimators=160, total=   7.1s\n",
      "[CV] max_depth=8, n_estimators=160 ...................................\n",
      "[CV] .................... max_depth=8, n_estimators=160, total=   7.3s\n",
      "[CV] max_depth=8, n_estimators=160 ...................................\n",
      "[CV] .................... max_depth=8, n_estimators=160, total=   7.4s\n",
      "[CV] max_depth=8, n_estimators=180 ...................................\n",
      "[CV] .................... max_depth=8, n_estimators=180, total=   8.0s\n",
      "[CV] max_depth=8, n_estimators=180 ...................................\n",
      "[CV] .................... max_depth=8, n_estimators=180, total=   8.1s\n",
      "[CV] max_depth=8, n_estimators=180 ...................................\n",
      "[CV] .................... max_depth=8, n_estimators=180, total=   8.2s\n",
      "[CV] max_depth=8, n_estimators=180 ...................................\n",
      "[CV] .................... max_depth=8, n_estimators=180, total=   8.3s\n",
      "[CV] max_depth=8, n_estimators=180 ...................................\n",
      "[CV] .................... max_depth=8, n_estimators=180, total=   8.2s\n"
     ]
    },
    {
     "name": "stderr",
     "output_type": "stream",
     "text": [
      "[Parallel(n_jobs=1)]: Done  75 out of  75 | elapsed:  6.1min finished\n"
     ]
    },
    {
     "name": "stdout",
     "output_type": "stream",
     "text": [
      "...Done.\n",
      "Best hyperparameters : \n",
      "{'max_depth': 8, 'n_estimators': 100}\n",
      "Predictions on training set...\n",
      "...Done.\n",
      "[0 0 1 0 0]\n",
      "\n",
      "Predictions on test set...\n",
      "...Done.\n",
      "[0 0 0 0 0]\n",
      "\n",
      "f1-score on training set :  0.6991973205520587\n",
      "f1-score on test set :  0.7023041474654378\n"
     ]
    }
   ],
   "source": [
    "# Train Random Forest with grid search\n",
    "rf = RandomForestClassifier()\n",
    "\n",
    "params = {\n",
    "    'n_estimators': [100, 120, 140, 160, 180],\n",
    "    'max_depth': [4, 6, 8]\n",
    "}\n",
    "\n",
    "model = GridSearchCV(rf, param_grid = params, verbose=2)\n",
    "\n",
    "print(\"Training model...\")\n",
    "model.fit(X_train, Y_train) # Training is always done on train set !!\n",
    "print(\"...Done.\")\n",
    "\n",
    "print(\"Best hyperparameters : \")\n",
    "print(model.best_params_)\n",
    "\n",
    "# Predictions on training set\n",
    "print(\"Predictions on training set...\")\n",
    "Y_train_pred = model.predict(X_train)\n",
    "print(\"...Done.\")\n",
    "print(Y_train_pred[0:5])\n",
    "print()\n",
    "\n",
    "# Predictions on test set\n",
    "print(\"Predictions on test set...\")\n",
    "Y_test_pred = model.predict(X_test)\n",
    "print(\"...Done.\")\n",
    "print(Y_test_pred[0:5])\n",
    "print()\n",
    "\n",
    "# Print scores\n",
    "print(\"f1-score on training set : \", f1_score(Y_train, Y_train_pred))\n",
    "print(\"f1-score on test set : \", f1_score(Y_test, Y_test_pred))"
   ]
  },
  {
   "cell_type": "code",
   "execution_count": null,
   "metadata": {},
   "outputs": [],
   "source": [
    "clf = SVC()\n",
    "clf.fit(X_train, Y_train)\n",
    "\n",
    "Y_train_pred = clf.predict(X_train)\n",
    "Y_test_pred = clf.predict(X_test)\n",
    "\n",
    "print(\"f1-score on training set : \", f1_score(Y_train, Y_train_pred))\n",
    "print(\"f1-score on test set : \", f1_score(Y_test, Y_test_pred))"
   ]
  },
  {
   "cell_type": "code",
   "execution_count": 69,
   "metadata": {},
   "outputs": [
    {
     "name": "stdout",
     "output_type": "stream",
     "text": [
      "Fitting 10 folds for each of 9 candidates, totalling 90 fits\n"
     ]
    },
    {
     "name": "stderr",
     "output_type": "stream",
     "text": [
      "[Parallel(n_jobs=1)]: Using backend SequentialBackend with 1 concurrent workers.\n"
     ]
    },
    {
     "name": "stdout",
     "output_type": "stream",
     "text": [
      "best Tree score on the train set : \n",
      " 0.9565721241225218 \n",
      " best Tree score on the test set : \n",
      " 0.9569146630206423\n"
     ]
    },
    {
     "name": "stderr",
     "output_type": "stream",
     "text": [
      "[Parallel(n_jobs=1)]: Done  90 out of  90 | elapsed:   20.7s finished\n"
     ]
    }
   ],
   "source": [
    "tree = DecisionTreeClassifier() \n",
    "tree_param_grid = {\"max_depth\" : np.arange(1,10,1)}\n",
    "\n",
    "gsTree = GridSearchCV(tree,tree_param_grid, cv=10, scoring=\"accuracy\", verbose = 1)\n",
    "\n",
    "gsTree.fit(X_train, np.ravel(Y_train))\n",
    "\n",
    "tree_best = gsTree.best_estimator_\n",
    "\n",
    "# Best score\n",
    "print(\"best {0} score on the train set : \\n {1} \\n best {0} score on the test set : \\n {2}\".format(\"Tree\", tree_best.score(X_train,Y_train), tree_best.score(X_test,Y_test)))"
   ]
  },
  {
   "cell_type": "code",
   "execution_count": 70,
   "metadata": {},
   "outputs": [
    {
     "data": {
      "text/plain": [
       "{'max_depth': 1}"
      ]
     },
     "execution_count": 70,
     "metadata": {},
     "output_type": "execute_result"
    }
   ],
   "source": [
    "gsTree.best_params_"
   ]
  },
  {
   "cell_type": "code",
   "execution_count": 76,
   "metadata": {},
   "outputs": [
    {
     "name": "stdout",
     "output_type": "stream",
     "text": [
      "Fitting 10 folds for each of 12 candidates, totalling 120 fits\n"
     ]
    },
    {
     "name": "stderr",
     "output_type": "stream",
     "text": [
      "[Parallel(n_jobs=-1)]: Using backend LokyBackend with 3 concurrent workers.\n",
      "[Parallel(n_jobs=-1)]: Done  44 tasks      | elapsed:   27.6s\n",
      "[Parallel(n_jobs=-1)]: Done 120 out of 120 | elapsed:  1.0min finished\n"
     ]
    },
    {
     "name": "stdout",
     "output_type": "stream",
     "text": [
      "best Logistic regression score on the train set : \n",
      " 0.9417154386140429 \n",
      " best Logistic regression score on the test set : \n",
      " 0.9421415946910328\n"
     ]
    },
    {
     "name": "stderr",
     "output_type": "stream",
     "text": [
      "/opt/conda/lib/python3.8/site-packages/sklearn/linear_model/_logistic.py:762: ConvergenceWarning: lbfgs failed to converge (status=1):\n",
      "STOP: TOTAL NO. of ITERATIONS REACHED LIMIT.\n",
      "\n",
      "Increase the number of iterations (max_iter) or scale the data as shown in:\n",
      "    https://scikit-learn.org/stable/modules/preprocessing.html\n",
      "Please also refer to the documentation for alternative solver options:\n",
      "    https://scikit-learn.org/stable/modules/linear_model.html#logistic-regression\n",
      "  n_iter_i = _check_optimize_result(\n"
     ]
    }
   ],
   "source": [
    "Log = LogisticRegression()\n",
    "log_param_grid = {\"class_weight\": [None, \"balanced\"],\n",
    "                 \"C\": [0.5, 0.6,0.7,0.8,0.9,1.0]}\n",
    "gsLog = GridSearchCV(Log, log_param_grid, cv =10, scoring ='accuracy', n_jobs=-1, verbose=1)\n",
    "gsLog.fit(X_train, Y_train)\n",
    "gsLog_best = gsLog.best_estimator_\n",
    "\n",
    "print(\"best {0} score on the train set : \\n {1} \\n best {0} score on the test set : \\n {2}\".format(\"Logistic regression\", gsLog_best.score(X_train,Y_train), gsLog_best.score(X_test,Y_test)))"
   ]
  }
 ],
 "metadata": {
  "kernelspec": {
   "display_name": "Python 3",
   "language": "python",
   "name": "python3"
  },
  "language_info": {
   "codemirror_mode": {
    "name": "ipython",
    "version": 3
   },
   "file_extension": ".py",
   "mimetype": "text/x-python",
   "name": "python",
   "nbconvert_exporter": "python",
   "pygments_lexer": "ipython3",
   "version": "3.8.6"
  }
 },
 "nbformat": 4,
 "nbformat_minor": 4
}
